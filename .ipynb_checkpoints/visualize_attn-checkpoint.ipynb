{
 "cells": [
  {
   "cell_type": "code",
   "execution_count": 1,
   "id": "f7bb8e6d",
   "metadata": {},
   "outputs": [
    {
     "name": "stderr",
     "output_type": "stream",
     "text": [
      "WARNING:root:The OGB package is out of date. Your version is 1.2.6, while the latest version is 1.3.1.\n"
     ]
    },
    {
     "name": "stdout",
     "output_type": "stream",
     "text": [
      "Namespace(add_edge='none', aggregators=['mean', 'max', 'min', 'std'], aug='baseline', batch_size=16, configs='configs/code2/pna-transformer/pooling=cls+norm_input.yml', d_model=128, data_root='/data/zhwu/ogb', dataset='ogbg-code2', devices=0, dim_feedforward=512, epochs=30, freeze_gnn=None, gnn_JK='last', gnn_dropout=0.0, gnn_emb_dim=272, gnn_num_layer=4, gnn_residual=True, gnn_type='gcn', gnn_virtual_node=False, grad_clip=None, graph_pooling='cls', lr=0.0001, max_input_len=1000, max_seq_len=5, model_type='pna-transformer', nhead=4, num_encoder_layers=4, num_vocab=5000, num_workers=0, post_layers=1, pretrained_gnn=None, resume=None, runs=1, scalers=['identity', 'amplification', 'attenuation'], scheduler='plateau', seed=12344, start_eval=10, test_freq=5, transformer_activation='relu', transformer_dropout=0.3, transformer_norm_input=True, weight_decay=3e-06)\n",
      "Target seqence less or equal to 5 is 0.9874166466036873%.\n",
      "Coverage of top 5000 vocabulary:\n",
      "0.9025832389087423\n",
      "Avg num nodes: 125.05959909406435\n",
      "Avg deg: tensor([       0, 18633228,  3397469,  9271469, 14722269,  4173428,   279922,\n",
      "          175973,   106338,    72315,    45396,    34056,    22711,    18403,\n",
      "           12439,    10792,     7878,     7186,     4581,     4149,     2955,\n",
      "            2697,     1802,     2114,     1316,     1355,      966,      973,\n",
      "             718,      694,      504,      527,      411,      418,      316,\n",
      "             315,      263,      256,      193,      193,      152,      219,\n",
      "             122,      170,       81,      115,       85,       88,       67,\n",
      "              83,       57,       81,       51,       61,       34,       48,\n",
      "              41,       41,       24,       39,       16,       44,       20,\n",
      "              27,       18,       28,       34,       32,       19,       18,\n",
      "              22,       20,       12,       12,       12,       11,        8,\n",
      "              19,        7,       11,       14,       15,       10,       11,\n",
      "               8,       10,        9,        3,        4,        3,        4,\n",
      "               8,        4,        6,        0,        3,        4,        6,\n",
      "               8,        6,        3,        2,        3,        6,        3,\n",
      "               5,        2,        6,        3,        4,        1,        3,\n",
      "               1,        0,        2,        0,        1,        2,        2,\n",
      "               0,        2,        3,        1,        1,        2,        2,\n",
      "               0,        1,        1,        2,        2,        0,        2,\n",
      "               2,        0,        1,        0,        1,        0,        1,\n",
      "               0,        3,        1,        0,        0,        0,        2,\n",
      "               1,        1,        2,        1,        1,        1,        1,\n",
      "               1,        1,        0,        1,        1,        1,        0,\n",
      "               1,        0,        1,        0,        0,        0,        1,\n",
      "               0,        2,        0,        1,        0,        1,        0,\n",
      "               1,        0,        1,        1,        1,        0,        2,\n",
      "               0,        1,        0,        2,        0,        3,        1,\n",
      "               1,        0,        1,        0,        0,        0,        0,\n",
      "               0,        0,        1,        0,        0,        0,        0,\n",
      "               4,        1,        0,        0,        1,        1,        1,\n",
      "               0,        0,        0,        0,        0,        0,        0,\n",
      "               0,        1,        1,        0,        1,        0,        0,\n",
      "               0,        0,        0,        0,        0,        0,        0,\n",
      "               0,        0,        0,        0,        0,        0,        0,\n",
      "               0,        0,        0,        0,        0,        0,        0,\n",
      "               0,        0,        0,        0,        0,        0,        0,\n",
      "               0,        0,        0,        0,        0,        0,        3,\n",
      "               0,        0,        0,        0,        0,        0,        0,\n",
      "               0,        0,        0,        0,        0,        0,        0,\n",
      "               0,        1,        0,        0,        0,        0,        0,\n",
      "               0,        0,        0,        0,        0,        0,        0,\n",
      "               0,        2,        0,        0,        0,        0,        0,\n",
      "               0,        0,        0,        0,        0,        0,        0,\n",
      "               0,        0,        0,        1,        0,        0,        0,\n",
      "               0,        0,        0,        0,        0,        0,        0,\n",
      "               0,        0,        0,        0,        0,        1,        0,\n",
      "               0,        0,        0,        0,        0,        1,        0,\n",
      "               0,        0,        0,        0,        0,        0,        0,\n",
      "               0,        0,        0,        0,        0,        0,        0,\n",
      "               0,        0,        0,        0,        0,        0,        0,\n",
      "               0,        0,        0,        0,        0,        0,        0,\n",
      "               0,        0,        0,        0,        0,        0,        0,\n",
      "               0,        0,        0,        0,        0,        0,        0,\n",
      "               0,        0,        0,        0,        0,        0,        0,\n",
      "               0,        0,        0,        0,        0,        0,        0,\n",
      "               0,        0,        0,        1,        0,        0,        0,\n",
      "               0,        0,        0,        0,        0,        0,        0,\n",
      "               0,        0,        0,        0,        0,        0,        0,\n",
      "               0,        0,        0,        0,        0,        0,        0,\n",
      "               0,        0,        0,        0,        0,        0,        0,\n",
      "               0,        0,        0,        1,        0,        0,        0,\n",
      "               0,        0,        0,        0,        0,        0,        0,\n",
      "               0,        0,        0,        0,        0,        0,        0,\n",
      "               0,        0,        0,        0,        0,        0,        0,\n",
      "               0,        0,        0,        0,        0,        0,        0,\n",
      "               0,        0,        0,        0,        0,        0,        0,\n",
      "               0,        0,        0,        0,        0,        0,        1,\n",
      "               1,        0,        0,        0,        0,        0,        0,\n",
      "               0,        0,        0,        0,        0,        0,        0,\n",
      "               0,        0,        0,        0,        0,        0,        0,\n",
      "               0,        0,        0,        0,        0,        0,        0,\n",
      "               0,        0,        0,        0,        0,        0,        0,\n",
      "               0,        0,        0,        0,        0,        0,        0,\n",
      "               0,        0,        0,        0,        0,        0,        1,\n",
      "               0,        0,        0,        0,        0,        0,        0,\n",
      "               0,        0,        0,        0,        0,        0,        0,\n",
      "               0,        0,        0,        0,        0,        0,        0,\n",
      "               0,        0,        0,        0,        0,        0,        0,\n",
      "               0,        0,        0,        0,        0,        0,        0,\n",
      "               0,        0,        0,        0,        0,        0,        0,\n",
      "               0,        0,        0,        0,        0,        0,        0,\n",
      "               0,        0,        0,        0,        0,        0,        0,\n",
      "               0,        0,        0,        0,        0,        0,        0,\n",
      "               0,        0,        0,        0,        0,        0,        0,\n",
      "               0,        0,        0,        0,        0,        0,        0,\n",
      "               0,        0,        0,        0,        0,        0,        0,\n",
      "               0,        0,        0,        0,        0,        0,        0,\n",
      "               0,        0,        0,        0,        0,        0,        0,\n",
      "               0,        0,        0,        0,        0,        0,        0,\n",
      "               0,        0,        0,        0,        0,        0,        0,\n",
      "               0,        0,        0,        0,        0,        0,        0,\n",
      "               0,        0,        0,        0,        0,        0,        0,\n",
      "               0,        0,        0,        0,        0,        0,        0,\n",
      "               0,        0,        0,        0,        0,        0,        0,\n",
      "               0,        0,        0,        0,        0,        0,        0,\n",
      "               0,        0,        0,        0,        0,        0,        0,\n",
      "               0,        0,        0,        0,        0,        0,        0,\n",
      "               0,        0,        0,        0,        0,        0,        0,\n",
      "               0,        0,        0,        0,        0,        0,        0,\n",
      "               0,        0,        0,        0,        0,        0,        1,\n",
      "               0,        0,        0,        0,        0,        0,        0,\n",
      "               0,        0,        0,        0,        0,        0,        0,\n",
      "               0,        0,        0,        0,        0,        0,        0,\n",
      "               0,        0,        0,        0,        0,        0,        0,\n",
      "               0,        0,        0,        0,        0,        0,        0,\n",
      "               0,        0,        0,        0,        0,        0,        0,\n",
      "               0,        0,        0,        0,        0,        0,        0,\n",
      "               0,        0,        0,        0,        0,        0,        0,\n",
      "               0,        0,        0,        0,        0,        0,        0,\n",
      "               0,        0,        0,        0,        0,        0,        0,\n",
      "               0,        0,        0,        0,        0,        0,        0,\n",
      "               0,        0,        0,        0,        0,        0,        0,\n",
      "               0,        0,        0,        0,        0,        0,        0,\n",
      "               0,        0,        0,        0,        0,        0,        0,\n",
      "               0,        1])\n"
     ]
    }
   ],
   "source": [
    "%matplotlib inline\n",
    "import matplotlib.pyplot as plt\n",
    "import torch\n",
    "from torch_geometric.data import DataLoader\n",
    "import torch.optim as optim\n",
    "import torch.nn.functional as F\n",
    "import random\n",
    "from tqdm import tqdm\n",
    "import configargparse\n",
    "import time\n",
    "import numpy as np\n",
    "import os\n",
    "\n",
    "# importing OGB\n",
    "from ogb.graphproppred import PygGraphPropPredDataset, Evaluator\n",
    "\n",
    "import sys\n",
    "from trainers import get_trainer_and_parser\n",
    "from models import get_model_and_parser\n",
    "from torch.optim.lr_scheduler import ReduceLROnPlateau, CosineAnnealingLR\n",
    "from dataset import DATASET_UTILS\n",
    "import utils\n",
    "from models.gnn_transformer import GNNTransformer\n",
    "\n",
    "from datetime import datetime\n",
    "import sys\n",
    "\n",
    "sys.argv = [\"main.py\", \"--configs\", \n",
    "            \"configs/code2/pna-transformer/pooling=cls+norm_input.yml\"]\n",
    "# fmt: off\n",
    "parser = configargparse.ArgumentParser(allow_abbrev=False,\n",
    "                                description='GNN baselines on ogbg-code data with Pytorch Geometrics')\n",
    "parser.add_argument('--configs', required=False, is_config_file=True)\n",
    "\n",
    "\n",
    "parser.add_argument('--data_root', type=str, default='/data/zhwu/ogb')\n",
    "parser.add_argument('--dataset', type=str, default=\"ogbg-code\",\n",
    "                    help='dataset name (default: ogbg-code)')\n",
    "\n",
    "parser.add_argument('--aug', type=str, default='baseline',\n",
    "                    help='augment method to use [baseline|flag|augment]')\n",
    "\n",
    "parser.add_argument('--max_seq_len', type=int, default=None,\n",
    "                    help='maximum sequence length to predict (default: None)')\n",
    "\n",
    "group = parser.add_argument_group('model')\n",
    "group.add_argument('--model_type', type=str, default='gnn', help='gnn|pna|gnn-transformer')\n",
    "group.add_argument('--graph_pooling', type=str, default='mean')\n",
    "group = parser.add_argument_group('gnn')\n",
    "group.add_argument('--gnn_type', type=str, default='gcn')\n",
    "group.add_argument('--gnn_virtual_node', action='store_true')\n",
    "group.add_argument('--gnn_dropout', type=float, default=0)\n",
    "group.add_argument('--gnn_num_layer', type=int, default=5,\n",
    "                    help='number of GNN message passing layers (default: 5)')\n",
    "group.add_argument('--gnn_emb_dim', type=int, default=300,\n",
    "                    help='dimensionality of hidden units in GNNs (default: 300)')\n",
    "group.add_argument('--gnn_JK', type=str, default='last')\n",
    "group.add_argument('--gnn_residual', action='store_true', default=False)\n",
    "\n",
    "group = parser.add_argument_group('training')\n",
    "group.add_argument('--devices', type=int, default=0,\n",
    "                    help='which gpu to use if any (default: 0)')\n",
    "group.add_argument('--batch_size', type=int, default=128,\n",
    "                    help='input batch size for training (default: 128)')\n",
    "group.add_argument('--epochs', type=int, default=30,\n",
    "                    help='number of epochs to train (default: 30)')\n",
    "group.add_argument('--num_workers', type=int, default=0,\n",
    "                    help='number of workers (default: 0)')\n",
    "group.add_argument('--scheduler', type=str, default=None)\n",
    "group.add_argument('--weight_decay', type=float, default=0.0)\n",
    "group.add_argument('--grad_clip', type=float, default=None)\n",
    "group.add_argument('--lr', type=float, default=0.001)\n",
    "group.add_argument('--runs', type=int, default=10)\n",
    "group.add_argument('--test-freq', type=int, default=1)\n",
    "group.add_argument('--start-eval', type=int, default=15)\n",
    "group.add_argument('--resume', type=str, default=None)\n",
    "group.add_argument('--seed', type=int, default=None)\n",
    "# fmt: on\n",
    "\n",
    "args, _ = parser.parse_known_args()\n",
    "\n",
    "dataset_util = DATASET_UTILS[args.dataset]()\n",
    "dataset_util.add_args(parser)\n",
    "args, _ = parser.parse_known_args()\n",
    "\n",
    "# Setup Trainer and add customized args\n",
    "trainer = get_trainer_and_parser(args, parser)\n",
    "train = trainer.train\n",
    "model_cls = get_model_and_parser(args, parser)\n",
    "args = parser.parse_args()\n",
    "data_transform = trainer.transform(args)\n",
    "\n",
    "\n",
    "device = torch.device(\"cuda\") if torch.cuda.is_available() and args.devices >= 0 else torch.device(\"cpu\")\n",
    "if args.resume is not None:\n",
    "    args.save_path = args.resume\n",
    "print(args)\n",
    "\n",
    "# automatic dataloading and splitting\n",
    "dataset_ = PygGraphPropPredDataset(name=args.dataset, root=args.data_root, transform=data_transform)\n",
    "dataset_eval_ = PygGraphPropPredDataset(name = args.dataset, root=args.data_root)\n",
    "\n",
    "num_tasks, node_encoder_cls, edge_encoder_cls, deg = dataset_util.preprocess(dataset_, dataset_eval_, model_cls, args)\n",
    "# automatic evaluator. takes dataset name as input\n",
    "evaluator = Evaluator(args.dataset)\n",
    "\n",
    "task_type = dataset_.task_type\n",
    "split_idx = dataset_.get_idx_split()\n",
    "calc_loss = dataset_util.loss_fn(task_type)\n",
    "eval = dataset_util.eval\n",
    "\n",
    "def create_loader(dataset, dataset_eval):\n",
    "    train_loader = DataLoader(dataset[split_idx[\"train\"]], batch_size=args.batch_size,\n",
    "                            shuffle=True, num_workers=args.num_workers, pin_memory=True)\n",
    "    valid_loader = DataLoader(dataset_eval[split_idx[\"valid\"]], batch_size=1,\n",
    "                            shuffle=False, num_workers=args.num_workers, pin_memory=True)\n",
    "    test_loader = DataLoader(dataset[split_idx[\"test\"]], 1,\n",
    "                            shuffle=False, num_workers=args.num_workers, pin_memory=True)\n",
    "    return train_loader, valid_loader, test_loader\n",
    "train_loader, valid_loader, test_loader = create_loader(dataset_, dataset_eval_)\n",
    "\n"
   ]
  },
  {
   "cell_type": "code",
   "execution_count": 2,
   "id": "176782f6",
   "metadata": {},
   "outputs": [],
   "source": [
    "import torch_geometric\n",
    "import networkx as nx"
   ]
  },
  {
   "cell_type": "code",
   "execution_count": 3,
   "id": "e00a030e",
   "metadata": {},
   "outputs": [],
   "source": [
    "valid_iter = iter(valid_loader)"
   ]
  },
  {
   "cell_type": "code",
   "execution_count": 4,
   "id": "533deb8d",
   "metadata": {},
   "outputs": [],
   "source": [
    "d = next(valid_iter)"
   ]
  },
  {
   "cell_type": "code",
   "execution_count": 5,
   "id": "bf8b1cb7",
   "metadata": {},
   "outputs": [
    {
     "data": {
      "text/plain": [
       "Batch(batch=[971], edge_attr=[2700, 2], edge_index=[2, 2700], node_depth=[971, 1], node_dfs_order=[971, 1], node_is_attributed=[971, 1], x=[971, 2], y=[1], y_arr=[1, 5])"
      ]
     },
     "execution_count": 5,
     "metadata": {},
     "output_type": "execute_result"
    }
   ],
   "source": [
    "d"
   ]
  },
  {
   "cell_type": "code",
   "execution_count": 50,
   "id": "a7378b9f",
   "metadata": {},
   "outputs": [],
   "source": [
    "state = torch.load('exps/ogbg-code2+pna-transformer-pooling=cls-norm_input+gcn-JK=last-enc_layer=4-d=128-act=relu-tdrop=0.3-gdrop=0.0+baseline+lr=0.0001+sch=plateau+seed12344-05_26-22_42_03/0/best_model.pt')"
   ]
  },
  {
   "cell_type": "code",
   "execution_count": 124,
   "id": "c7b26da9",
   "metadata": {},
   "outputs": [
    {
     "data": {
      "text/plain": [
       "PNATransformer(\n",
       "  (gnn_node): PNANodeEmbedding(\n",
       "    (node_encoder): ASTNodeEncoder(\n",
       "      (type_encoder): Embedding(98, 272)\n",
       "      (attribute_encoder): Embedding(10030, 272)\n",
       "      (depth_encoder): Embedding(21, 272)\n",
       "    )\n",
       "    (layers): ModuleList(\n",
       "      (0): PNAConv(272, 272, towers=4, edge_dim=None)\n",
       "      (1): PNAConv(272, 272, towers=4, edge_dim=None)\n",
       "      (2): PNAConv(272, 272, towers=4, edge_dim=None)\n",
       "      (3): PNAConv(272, 272, towers=4, edge_dim=None)\n",
       "    )\n",
       "    (batch_norms): ModuleList(\n",
       "      (0): BatchNorm(272)\n",
       "      (1): BatchNorm(272)\n",
       "      (2): BatchNorm(272)\n",
       "      (3): BatchNorm(272)\n",
       "    )\n",
       "  )\n",
       "  (gnn2transformer): Linear(in_features=272, out_features=128, bias=True)\n",
       "  (transformer_encoder): TransformerNodeEncoder(\n",
       "    (transformer): TransformerEncoder(\n",
       "      (layers): ModuleList(\n",
       "        (0): TransformerEncoderLayer(\n",
       "          (self_attn): MultiheadAttention(\n",
       "            (out_proj): _LinearWithBias(in_features=128, out_features=128, bias=True)\n",
       "          )\n",
       "          (linear1): Linear(in_features=128, out_features=512, bias=True)\n",
       "          (dropout): Dropout(p=0.3, inplace=False)\n",
       "          (linear2): Linear(in_features=512, out_features=128, bias=True)\n",
       "          (norm1): LayerNorm((128,), eps=1e-05, elementwise_affine=True)\n",
       "          (norm2): LayerNorm((128,), eps=1e-05, elementwise_affine=True)\n",
       "          (dropout1): Dropout(p=0.3, inplace=False)\n",
       "          (dropout2): Dropout(p=0.3, inplace=False)\n",
       "        )\n",
       "        (1): TransformerEncoderLayer(\n",
       "          (self_attn): MultiheadAttention(\n",
       "            (out_proj): _LinearWithBias(in_features=128, out_features=128, bias=True)\n",
       "          )\n",
       "          (linear1): Linear(in_features=128, out_features=512, bias=True)\n",
       "          (dropout): Dropout(p=0.3, inplace=False)\n",
       "          (linear2): Linear(in_features=512, out_features=128, bias=True)\n",
       "          (norm1): LayerNorm((128,), eps=1e-05, elementwise_affine=True)\n",
       "          (norm2): LayerNorm((128,), eps=1e-05, elementwise_affine=True)\n",
       "          (dropout1): Dropout(p=0.3, inplace=False)\n",
       "          (dropout2): Dropout(p=0.3, inplace=False)\n",
       "        )\n",
       "        (2): TransformerEncoderLayer(\n",
       "          (self_attn): MultiheadAttention(\n",
       "            (out_proj): _LinearWithBias(in_features=128, out_features=128, bias=True)\n",
       "          )\n",
       "          (linear1): Linear(in_features=128, out_features=512, bias=True)\n",
       "          (dropout): Dropout(p=0.3, inplace=False)\n",
       "          (linear2): Linear(in_features=512, out_features=128, bias=True)\n",
       "          (norm1): LayerNorm((128,), eps=1e-05, elementwise_affine=True)\n",
       "          (norm2): LayerNorm((128,), eps=1e-05, elementwise_affine=True)\n",
       "          (dropout1): Dropout(p=0.3, inplace=False)\n",
       "          (dropout2): Dropout(p=0.3, inplace=False)\n",
       "        )\n",
       "        (3): TransformerEncoderLayer(\n",
       "          (self_attn): MultiheadAttention(\n",
       "            (out_proj): _LinearWithBias(in_features=128, out_features=128, bias=True)\n",
       "          )\n",
       "          (linear1): Linear(in_features=128, out_features=512, bias=True)\n",
       "          (dropout): Dropout(p=0.3, inplace=False)\n",
       "          (linear2): Linear(in_features=512, out_features=128, bias=True)\n",
       "          (norm1): LayerNorm((128,), eps=1e-05, elementwise_affine=True)\n",
       "          (norm2): LayerNorm((128,), eps=1e-05, elementwise_affine=True)\n",
       "          (dropout1): Dropout(p=0.3, inplace=False)\n",
       "          (dropout2): Dropout(p=0.3, inplace=False)\n",
       "        )\n",
       "      )\n",
       "      (norm): LayerNorm((128,), eps=1e-05, elementwise_affine=True)\n",
       "    )\n",
       "    (norm_input): LayerNorm((128,), eps=1e-05, elementwise_affine=True)\n",
       "  )\n",
       "  (graph_pred_linear_list): ModuleList(\n",
       "    (0): Linear(in_features=128, out_features=5002, bias=True)\n",
       "    (1): Linear(in_features=128, out_features=5002, bias=True)\n",
       "    (2): Linear(in_features=128, out_features=5002, bias=True)\n",
       "    (3): Linear(in_features=128, out_features=5002, bias=True)\n",
       "    (4): Linear(in_features=128, out_features=5002, bias=True)\n",
       "  )\n",
       ")"
      ]
     },
     "execution_count": 124,
     "metadata": {},
     "output_type": "execute_result"
    }
   ],
   "source": [
    "model = model_cls(num_tasks=num_tasks, args=args, node_encoder=node_encoder_cls(), edge_encoder_cls=edge_encoder_cls)\n",
    "model.load_state_dict(state[\"model\"])\n",
    "model"
   ]
  },
  {
   "cell_type": "code",
   "execution_count": 133,
   "id": "68d64451",
   "metadata": {},
   "outputs": [
    {
     "data": {
      "text/plain": [
       "TransformerEncoderLayer(\n",
       "  (self_attn): MultiheadAttention(\n",
       "    (out_proj): _LinearWithBias(in_features=128, out_features=128, bias=True)\n",
       "  )\n",
       "  (linear1): Linear(in_features=128, out_features=512, bias=True)\n",
       "  (dropout): Dropout(p=0.3, inplace=False)\n",
       "  (linear2): Linear(in_features=512, out_features=128, bias=True)\n",
       "  (norm1): LayerNorm((128,), eps=1e-05, elementwise_affine=True)\n",
       "  (norm2): LayerNorm((128,), eps=1e-05, elementwise_affine=True)\n",
       "  (dropout1): Dropout(p=0.3, inplace=False)\n",
       "  (dropout2): Dropout(p=0.3, inplace=False)\n",
       ")"
      ]
     },
     "execution_count": 133,
     "metadata": {},
     "output_type": "execute_result"
    }
   ],
   "source": [
    "model.transformer_encoder.transformer.layers[0]"
   ]
  },
  {
   "cell_type": "code",
   "execution_count": 134,
   "id": "e6046c1d",
   "metadata": {},
   "outputs": [],
   "source": [
    "from matplotlib import ticker\n",
    "def plot_attn(attn_weight):\n",
    "    attn_weight = attn_weight.numpy()[0]\n",
    "    fig, ax = plt.subplots()\n",
    "    # ax = fig.add_subplot(111)\n",
    "    cax = ax.matshow(attn_weight[:, :], cmap='Reds')\n",
    "    cax.set_clim(None, 0.3)\n",
    "    ax.xaxis.set_major_locator(ticker.MultipleLocator(1))\n",
    "    ax.yaxis.set_major_locator(ticker.MultipleLocator(1))\n",
    "    fig.colorbar(cax)\n",
    "    plt.show()\n"
   ]
  },
  {
   "cell_type": "code",
   "execution_count": 128,
   "id": "4a250ddd",
   "metadata": {},
   "outputs": [],
   "source": [
    "def my_forward(self, src, src_mask = None, src_key_padding_mask = None):\n",
    "        r\"\"\"Pass the input through the encoder layer.\n",
    "\n",
    "        Args:\n",
    "            src: the sequence to the encoder layer (required).\n",
    "            src_mask: the mask for the src sequence (optional).\n",
    "            src_key_padding_mask: the mask for the src keys per batch (optional).\n",
    "\n",
    "        Shape:\n",
    "            see the docs in Transformer class.\n",
    "        \"\"\"\n",
    "        src2, attn_weight = self.self_attn(src, src, src, attn_mask=src_mask,\n",
    "                              key_padding_mask=src_key_padding_mask)\n",
    "        print(attn_weight.size())\n",
    "        plot_attn(attn_weight)\n",
    "        src = src + self.dropout1(src2)\n",
    "        src = self.norm1(src)\n",
    "        src2 = self.linear2(self.dropout(self.activation(self.linear1(src))))\n",
    "        src = src + self.dropout2(src2)\n",
    "        src = self.norm2(src)\n",
    "        return src"
   ]
  },
  {
   "cell_type": "code",
   "execution_count": 139,
   "id": "64af43b8",
   "metadata": {},
   "outputs": [],
   "source": [
    "layer = model.transformer_encoder.transformer.layers[0]\n",
    "model.transformer_encoder.transformer.layers[0].forward = my_forward.__get__(layer)\n",
    "\n",
    "layer = model.transformer_encoder.transformer.layers[1]\n",
    "model.transformer_encoder.transformer.layers[1].forward = my_forward.__get__(layer)\n",
    "\n",
    "layer = model.transformer_encoder.transformer.layers[2]\n",
    "model.transformer_encoder.transformer.layers[2].forward = my_forward.__get__(layer)\n",
    "\n",
    "layer = model.transformer_encoder.transformer.layers[3]\n",
    "model.transformer_encoder.transformer.layers[3].forward = my_forward.__get__(layer)"
   ]
  },
  {
   "cell_type": "code",
   "execution_count": 140,
   "id": "f666c3c3",
   "metadata": {},
   "outputs": [],
   "source": [
    "for d in valid_loader:\n",
    "    if len(d.batch) < 19 and len(d.batch) != 16:\n",
    "        break"
   ]
  },
  {
   "cell_type": "code",
   "execution_count": 141,
   "id": "dc7312aa",
   "metadata": {},
   "outputs": [],
   "source": [
    "g = torch_geometric.utils.to_networkx(d, to_undirected=True)"
   ]
  },
  {
   "cell_type": "code",
   "execution_count": 142,
   "id": "269665b8",
   "metadata": {},
   "outputs": [
    {
     "name": "stdout",
     "output_type": "stream",
     "text": [
      "torch.Size([1, 19, 19])\n"
     ]
    },
    {
     "data": {
      "image/png": "[encoded data removed]",
      "text/plain": [
       "<Figure size 432x288 with 2 Axes>"
      ]
     },
     "metadata": {
      "needs_background": "light"
     },
     "output_type": "display_data"
    },
    {
     "name": "stdout",
     "output_type": "stream",
     "text": [
      "torch.Size([1, 19, 19])\n"
     ]
    },
    {
     "data": {
      "image/png": "[encoded data removed]",
      "text/plain": [
       "<Figure size 432x288 with 2 Axes>"
      ]
     },
     "metadata": {
      "needs_background": "light"
     },
     "output_type": "display_data"
    },
    {
     "name": "stdout",
     "output_type": "stream",
     "text": [
      "torch.Size([1, 19, 19])\n"
     ]
    },
    {
     "data": {
      "image/png": "[encoded data removed]",
      "text/plain": [
       "<Figure size 432x288 with 2 Axes>"
      ]
     },
     "metadata": {
      "needs_background": "light"
     },
     "output_type": "display_data"
    },
    {
     "name": "stdout",
     "output_type": "stream",
     "text": [
      "torch.Size([1, 19, 19])\n"
     ]
    },
    {
     "data": {
      "image/png": "[encoded data removed]",
      "text/plain": [
       "<Figure size 432x288 with 2 Axes>"
      ]
     },
     "metadata": {
      "needs_background": "light"
     },
     "output_type": "display_data"
    }
   ],
   "source": [
    "with torch.no_grad():\n",
    "    d = d\n",
    "    model(d)"
   ]
  },
  {
   "cell_type": "code",
   "execution_count": 123,
   "id": "4fec83c2",
   "metadata": {},
   "outputs": [
    {
     "data": {
      "image/png": "[encoded data removed]",
      "text/plain": [
       "<Figure size 432x288 with 1 Axes>"
      ]
     },
     "metadata": {},
     "output_type": "display_data"
    }
   ],
   "source": [
    "f = plt.figure()\n",
    "nx.draw(g, with_labels=True, ax=f.add_subplot(111), node_color='black', font_color='white')\n",
    "plt.show()\n",
    "f.savefig('code-graph-white.pdf',bbox_inches = 'tight')"
   ]
  },
  {
   "cell_type": "code",
   "execution_count": null,
   "id": "79bda042",
   "metadata": {},
   "outputs": [],
   "source": []
  },
  {
   "cell_type": "code",
   "execution_count": null,
   "id": "f0cd8ae9",
   "metadata": {},
   "outputs": [],
   "source": []
  }
 ],
 "metadata": {
  "kernelspec": {
   "display_name": "Python 3",
   "language": "python",
   "name": "python3"
  },
  "language_info": {
   "codemirror_mode": {
    "name": "ipython",
    "version": 3
   },
   "file_extension": ".py",
   "mimetype": "text/x-python",
   "name": "python",
   "nbconvert_exporter": "python",
   "pygments_lexer": "ipython3",
   "version": "3.8.5"
  }
 },
 "nbformat": 4,
 "nbformat_minor": 5
}
